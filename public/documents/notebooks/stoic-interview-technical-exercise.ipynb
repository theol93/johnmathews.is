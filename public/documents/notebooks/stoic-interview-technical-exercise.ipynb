{
 "cells": [
  {
   "cell_type": "markdown",
   "metadata": {},
   "source": [
    "This notebook is a technical exercise I worked on as part of an interview for a crypto trading firm. The exercises involve building simplified interfaces to parse order book data and calculate various quantities and derived properties.\n",
    "\n",
    "I find technical interviews that involve live coding exercises to be really useful and really stressful. Live coding definitely triggers \"performance anxiety\" for me (when I was a kid I really hated presenting or playing an instrument in front of anyone, even teachers) - I felt self-councious and in this case I needed to use VSCode instead of my familiar Vim+Tmux setup. Consequently progress was really slow and bumpy. Tragically, I got really muddled trying to parse some json after the initial API request!\n",
    "\n",
    "Whilst thinking about the problem and what code to write, I also needed to think about the following:\n",
    "- How to communicate my thoughts\n",
    "- How to optimize my output for an interview context (it's not a real problem involving tests, edge cases, scalability or performance considerations)\n",
    "- How to use VSCode (and a mouse or trackpad). \n",
    "\n",
    "These additional considerations resulted in me writing code that got the job done.. but slowly. The code wasn't great. \n",
    "\n",
    "I was curious how much faster I'd be (and how much easier the exercise would seem) if I treated the exercise as a \"take home\" exercise instead of \"live coding\". Here are the results - it took a couple of hours, the ideas flowed more easily, and I could remember methods more accurately. I wish I didn't (still) get so self conscious!\n",
    "\n",
    "Despite this, I think live coding interviews are a great way of assessing me - they get under my skin and show my worst sides as well as my best. If I'm going to work in a high paced and demanding role then the interview should also have those elements."
   ]
  },
  {
   "cell_type": "markdown",
   "metadata": {},
   "source": [
    "## Part 1 The Interface\n",
    "### 1. Build an abstraction that, given a pair as an argument (ethusd in our case) fetches the latest orderbook and prints it."
   ]
  },
  {
   "cell_type": "code",
   "execution_count": 1,
   "metadata": {},
   "outputs": [],
   "source": [
    "import requests\n",
    "import operator\n",
    "import pprint\n",
    "import pandas as pd\n",
    "import time\n",
    "\n",
    "pp = pprint.PrettyPrinter(indent=4)"
   ]
  },
  {
   "cell_type": "code",
   "execution_count": 2,
   "metadata": {},
   "outputs": [],
   "source": [
    "def get_data(url):\n",
    "    r = requests.get(url)\n",
    "    data = r.json()\n",
    "    return data.get('result')"
   ]
  },
  {
   "cell_type": "code",
   "execution_count": 3,
   "metadata": {},
   "outputs": [],
   "source": [
    "#get_data(\"https://api.kraken.com/0/public/Depth?pair=ethusd\")"
   ]
  },
  {
   "cell_type": "markdown",
   "metadata": {},
   "source": [
    "## 2. Add some functionality that takes a side (bid or ask) and a price p as arguments, and returns the total volume available in the order book at p."
   ]
  },
  {
   "cell_type": "code",
   "execution_count": 4,
   "metadata": {},
   "outputs": [],
   "source": [
    "def calc_volume(ob_side, price):\n",
    "    data = get_data(\"https://api.kraken.com/0/public/Depth?pair=ethusd\")\n",
    "    \n",
    "    # side should be either \"asks\" or \"bids\"\n",
    "    side = data[\"XETHZUSD\"][ob_side]\n",
    "    clean_data = []\n",
    "    for i, j in enumerate(side):\n",
    "        price_data = float(side[i][0])\n",
    "        volume = float(side[i][1])\n",
    "        clean_data.append((price_data, volume))\n",
    "\n",
    "    # find all the items where first item is less than or equal to price\n",
    "    index = 0\n",
    "    volume = 0\n",
    "\n",
    "    operate = {\n",
    "        'bids': operator.ge,\n",
    "        'asks': operator.le,\n",
    "    }\n",
    "    op = operate[ob_side]\n",
    "\n",
    "    for i, j in enumerate(clean_data):\n",
    "        if op(clean_data[i][0], price):\n",
    "            index += 1\n",
    "            volume += clean_data[i][1]\n",
    "        else:\n",
    "            break\n",
    "\n",
    "    return volume"
   ]
  },
  {
   "cell_type": "code",
   "execution_count": 5,
   "metadata": {},
   "outputs": [
    {
     "data": {
      "text/plain": [
       "1056.4709999999998"
      ]
     },
     "execution_count": 5,
     "metadata": {},
     "output_type": "execute_result"
    }
   ],
   "source": [
    "calc_volume(\"bids\", 2470)"
   ]
  },
  {
   "cell_type": "code",
   "execution_count": 6,
   "metadata": {},
   "outputs": [
    {
     "data": {
      "text/plain": [
       "0"
      ]
     },
     "execution_count": 6,
     "metadata": {},
     "output_type": "execute_result"
    }
   ],
   "source": [
    "calc_volume(\"asks\", 2480)"
   ]
  },
  {
   "cell_type": "markdown",
   "metadata": {},
   "source": [
    "## 3. Now add some (or modifies existing) functionality that takes a percentage and a side as arguments, and returns the volume available between the best price for that side, and that price +/- the percentage."
   ]
  },
  {
   "cell_type": "code",
   "execution_count": 7,
   "metadata": {},
   "outputs": [],
   "source": [
    "def slippage(ob_side, percent):\n",
    "    data = get_data(\"https://api.kraken.com/0/public/Depth?pair=ethusd\")\n",
    "    \n",
    "    # side should be either \"asks\" or \"bids\"\n",
    "    side = data[\"XETHZUSD\"][ob_side]\n",
    "    clean_data = []\n",
    "    for i, j in enumerate(side):\n",
    "        price_data = float(side[i][0])\n",
    "        volume = float(side[i][1])\n",
    "        clean_data.append((price_data, volume))\n",
    "\n",
    "    # find all the items where first item is less than or equal to price\n",
    "    index = 0\n",
    "    volume = 0\n",
    "\n",
    "    starting_price = clean_data[0][0]\n",
    "    # pprint.pprint(starting_price)\n",
    "\n",
    "    if side == 'asks':\n",
    "        percent *= -1\n",
    "\n",
    "    op = operator.add if side == \"ask\" else operator.sub\n",
    "    limit_price = op(starting_price, (starting_price * percent))\n",
    "    # pp.pprint(f\"limit_price: {limit_price}\")\n",
    "    operate = {\n",
    "        'bids': operator.ge,\n",
    "        'asks': operator.le,\n",
    "    }\n",
    "    op = operate[ob_side]\n",
    "\n",
    "    for i, j in enumerate(clean_data):\n",
    "        if op(clean_data[i][0], limit_price):\n",
    "            index += 1\n",
    "            volume += clean_data[i][1]\n",
    "        else:\n",
    "            break\n",
    "\n",
    "    # pp.pprint(volume)\n",
    "    return volume"
   ]
  },
  {
   "cell_type": "code",
   "execution_count": 8,
   "metadata": {},
   "outputs": [
    {
     "data": {
      "text/plain": [
       "1666.9950000000003"
      ]
     },
     "execution_count": 8,
     "metadata": {},
     "output_type": "execute_result"
    }
   ],
   "source": [
    "slippage(\"bids\", 0.01)"
   ]
  },
  {
   "cell_type": "markdown",
   "metadata": {},
   "source": [
    "## 4. Can you visualize the order book?"
   ]
  },
  {
   "cell_type": "code",
   "execution_count": 9,
   "metadata": {},
   "outputs": [],
   "source": [
    "asks = get_data(\"https://api.kraken.com/0/public/Depth?pair=ethusd\")['XETHZUSD']['asks']\n",
    "bids = get_data(\"https://api.kraken.com/0/public/Depth?pair=ethusd\")['XETHZUSD']['bids']"
   ]
  },
  {
   "cell_type": "code",
   "execution_count": 10,
   "metadata": {},
   "outputs": [
    {
     "data": {
      "text/html": [
       "<div>\n",
       "<style scoped>\n",
       "    .dataframe tbody tr th:only-of-type {\n",
       "        vertical-align: middle;\n",
       "    }\n",
       "\n",
       "    .dataframe tbody tr th {\n",
       "        vertical-align: top;\n",
       "    }\n",
       "\n",
       "    .dataframe thead th {\n",
       "        text-align: right;\n",
       "    }\n",
       "</style>\n",
       "<table border=\"1\" class=\"dataframe\">\n",
       "  <thead>\n",
       "    <tr style=\"text-align: right;\">\n",
       "      <th></th>\n",
       "      <th>price</th>\n",
       "      <th>volume</th>\n",
       "      <th>timestamp</th>\n",
       "      <th>cumulative</th>\n",
       "    </tr>\n",
       "  </thead>\n",
       "  <tbody>\n",
       "    <tr>\n",
       "      <th>0</th>\n",
       "      <td>2480.36000</td>\n",
       "      <td>0.591</td>\n",
       "      <td>1623670712</td>\n",
       "      <td>0.591</td>\n",
       "    </tr>\n",
       "    <tr>\n",
       "      <th>1</th>\n",
       "      <td>2480.48000</td>\n",
       "      <td>0.006</td>\n",
       "      <td>1623670590</td>\n",
       "      <td>0.597</td>\n",
       "    </tr>\n",
       "    <tr>\n",
       "      <th>2</th>\n",
       "      <td>2480.93000</td>\n",
       "      <td>0.007</td>\n",
       "      <td>1623670457</td>\n",
       "      <td>0.604</td>\n",
       "    </tr>\n",
       "    <tr>\n",
       "      <th>3</th>\n",
       "      <td>2480.96000</td>\n",
       "      <td>0.005</td>\n",
       "      <td>1623670684</td>\n",
       "      <td>0.609</td>\n",
       "    </tr>\n",
       "    <tr>\n",
       "      <th>4</th>\n",
       "      <td>2480.99000</td>\n",
       "      <td>0.172</td>\n",
       "      <td>1623670589</td>\n",
       "      <td>0.781</td>\n",
       "    </tr>\n",
       "  </tbody>\n",
       "</table>\n",
       "</div>"
      ],
      "text/plain": [
       "        price  volume   timestamp  cumulative\n",
       "0  2480.36000   0.591  1623670712       0.591\n",
       "1  2480.48000   0.006  1623670590       0.597\n",
       "2  2480.93000   0.007  1623670457       0.604\n",
       "3  2480.96000   0.005  1623670684       0.609\n",
       "4  2480.99000   0.172  1623670589       0.781"
      ]
     },
     "execution_count": 10,
     "metadata": {},
     "output_type": "execute_result"
    }
   ],
   "source": [
    "asks = pd.DataFrame(asks)\n",
    "asks.columns = ['price', 'volume', 'timestamp']\n",
    "asks['volume'] = asks['volume'].astype(float)\n",
    "asks['cumulative'] = asks['volume'].cumsum()\n",
    "asks.head()"
   ]
  },
  {
   "cell_type": "code",
   "execution_count": 11,
   "metadata": {},
   "outputs": [
    {
     "data": {
      "text/html": [
       "<div>\n",
       "<style scoped>\n",
       "    .dataframe tbody tr th:only-of-type {\n",
       "        vertical-align: middle;\n",
       "    }\n",
       "\n",
       "    .dataframe tbody tr th {\n",
       "        vertical-align: top;\n",
       "    }\n",
       "\n",
       "    .dataframe thead th {\n",
       "        text-align: right;\n",
       "    }\n",
       "</style>\n",
       "<table border=\"1\" class=\"dataframe\">\n",
       "  <thead>\n",
       "    <tr style=\"text-align: right;\">\n",
       "      <th></th>\n",
       "      <th>price</th>\n",
       "      <th>volume</th>\n",
       "      <th>timestamp</th>\n",
       "      <th>cumulative</th>\n",
       "    </tr>\n",
       "  </thead>\n",
       "  <tbody>\n",
       "    <tr>\n",
       "      <th>0</th>\n",
       "      <td>2480.35000</td>\n",
       "      <td>21.903</td>\n",
       "      <td>1623670721</td>\n",
       "      <td>21.903</td>\n",
       "    </tr>\n",
       "    <tr>\n",
       "      <th>1</th>\n",
       "      <td>2480.34000</td>\n",
       "      <td>7.930</td>\n",
       "      <td>1623670720</td>\n",
       "      <td>29.833</td>\n",
       "    </tr>\n",
       "    <tr>\n",
       "      <th>2</th>\n",
       "      <td>2480.25000</td>\n",
       "      <td>0.250</td>\n",
       "      <td>1623670709</td>\n",
       "      <td>30.083</td>\n",
       "    </tr>\n",
       "    <tr>\n",
       "      <th>3</th>\n",
       "      <td>2480.22000</td>\n",
       "      <td>8.061</td>\n",
       "      <td>1623670715</td>\n",
       "      <td>38.144</td>\n",
       "    </tr>\n",
       "    <tr>\n",
       "      <th>4</th>\n",
       "      <td>2480.21000</td>\n",
       "      <td>16.113</td>\n",
       "      <td>1623670720</td>\n",
       "      <td>54.257</td>\n",
       "    </tr>\n",
       "  </tbody>\n",
       "</table>\n",
       "</div>"
      ],
      "text/plain": [
       "        price  volume   timestamp  cumulative\n",
       "0  2480.35000  21.903  1623670721      21.903\n",
       "1  2480.34000   7.930  1623670720      29.833\n",
       "2  2480.25000   0.250  1623670709      30.083\n",
       "3  2480.22000   8.061  1623670715      38.144\n",
       "4  2480.21000  16.113  1623670720      54.257"
      ]
     },
     "execution_count": 11,
     "metadata": {},
     "output_type": "execute_result"
    }
   ],
   "source": [
    "bids = pd.DataFrame(bids)\n",
    "bids.columns = ['price', 'volume', 'timestamp']\n",
    "bids['volume'] = bids['volume'].astype(float)\n",
    "bids['cumulative'] = bids['volume'].cumsum()\n",
    "bids.head()"
   ]
  },
  {
   "cell_type": "code",
   "execution_count": 12,
   "metadata": {},
   "outputs": [],
   "source": [
    "ob = pd.concat([bids[[\"price\",\"cumulative\"]], asks[[\"price\",\"cumulative\"]]], ignore_index=False)"
   ]
  },
  {
   "cell_type": "code",
   "execution_count": 13,
   "metadata": {},
   "outputs": [],
   "source": [
    "ob.sort_values(by=\"price\", inplace=True)\n",
    "ob.set_index(\"price\", inplace=True)"
   ]
  },
  {
   "cell_type": "code",
   "execution_count": 14,
   "metadata": {},
   "outputs": [
    {
     "data": {
      "image/png": "[encoded data removed]",
      "text/plain": [
       "<Figure size 1008x720 with 1 Axes>"
      ]
     },
     "metadata": {
      "needs_background": "light"
     },
     "output_type": "display_data"
    }
   ],
   "source": [
    "ax = ob.plot.bar(figsize=(14,10))\n",
    "xticks = ax.xaxis.get_ticklocs()\n",
    "xticklabels = [l.get_text() for l in ax.xaxis.get_ticklabels()]\n",
    "ax.xaxis.set_ticks(xticks[::5]);\n",
    "ax.xaxis.set_ticklabels(xticklabels[::5]);"
   ]
  },
  {
   "cell_type": "markdown",
   "metadata": {},
   "source": [
    "# Part 2: Time-series\n",
    "1. Build an abstraction that takes the following arguments:\n",
    "    - A pair\n",
    "    - A unit of time (t) that can be either \"milliseconds\", \"seconds\", \"minutes\" or \"hours\".\n",
    "    - A number of time units (n)  \n",
    "\n",
    "   Given these arguments, it should fetch and store the order book for the pair every n t. For example: if t = \"second\" and n = 3, it should fetch the order book every second for a total of 3 times.\n",
    "\n"
   ]
  },
  {
   "cell_type": "code",
   "execution_count": 15,
   "metadata": {},
   "outputs": [],
   "source": [
    "def time_series(pair, tunit, n):\n",
    "    base_url = f\"https://api.kraken.com/0/public/Depth?pair={pair}\"\n",
    "    pair_mod = \"X\"+pair[0:3].upper()+\"Z\"+pair[3:].upper()\n",
    "    results = {}\n",
    "    \n",
    "    timeunits = {\n",
    "        \"s\": 1,\n",
    "        \"m\": 60*1,\n",
    "        \"ms\": 0.001,\n",
    "    }\n",
    "    realtime = timeunits[tunit]\n",
    "    \n",
    "    for i in range(n):\n",
    "        print(f\"getting snapshot {i+1} of {n}\")\n",
    "        r = requests.get(base_url)\n",
    "        data = r.json()\n",
    "        print(hash(frozenset(r)))\n",
    "        results[i] = data.get('result')[pair_mod]\n",
    "        time.sleep(n*realtime) # had to modify by multiplying by n so that api is more likely to return different data set.\n",
    "    \n",
    "    print(\"done!\")\n",
    "    return results"
   ]
  },
  {
   "cell_type": "code",
   "execution_count": 16,
   "metadata": {},
   "outputs": [
    {
     "name": "stdout",
     "output_type": "stream",
     "text": [
      "getting snapshot 1 of 3\n",
      "-1526417027600069276\n",
      "getting snapshot 2 of 3\n",
      "-8189240544199034758\n",
      "getting snapshot 3 of 3\n",
      "-7237732313600249416\n",
      "done!\n"
     ]
    }
   ],
   "source": [
    "results = time_series(\"ethusd\", \"s\", 3)"
   ]
  },
  {
   "cell_type": "markdown",
   "metadata": {},
   "source": [
    "_We see that the hash of the api response is sometimes the same, so we would expect there to be no volume change between these identical snapshots._"
   ]
  },
  {
   "cell_type": "code",
   "execution_count": 17,
   "metadata": {},
   "outputs": [],
   "source": [
    "#results"
   ]
  },
  {
   "cell_type": "markdown",
   "metadata": {},
   "source": [
    "### Now extend your code to compare the order books you've fetched to each other. Given the name of a pair, n, t and a price p, determine how much the total volume available at p has changed between each \"frame\", and between the first and last \"frame\"."
   ]
  },
  {
   "cell_type": "code",
   "execution_count": 18,
   "metadata": {},
   "outputs": [],
   "source": [
    "# redefine \"calc_volume\" function from above to make data an input param\n",
    "def calc_volume(data, ob_side, price):\n",
    "    \n",
    "    # side should be either \"asks\" or \"bids\"\n",
    "    side = data[ob_side]\n",
    "    clean_data = []\n",
    "    for i, j in enumerate(side):\n",
    "        price_data = float(side[i][0])\n",
    "        volume = float(side[i][1])\n",
    "        clean_data.append((price_data, volume))\n",
    "\n",
    "    # find all the items where first item is less than or equal to price\n",
    "    index = 0\n",
    "    volume = 0\n",
    "\n",
    "    operate = {\n",
    "        'bids': operator.ge,\n",
    "        'asks': operator.le,\n",
    "    }\n",
    "    op = operate[ob_side]\n",
    "\n",
    "    for i, j in enumerate(clean_data):\n",
    "        if op(clean_data[i][0], price):\n",
    "            index += 1\n",
    "            volume += clean_data[i][1]\n",
    "        else:\n",
    "            break\n",
    "\n",
    "    return volume"
   ]
  },
  {
   "cell_type": "code",
   "execution_count": 19,
   "metadata": {},
   "outputs": [],
   "source": [
    "def snapshot_compare(results, ob_side, price):\n",
    "    snap_vol = []\n",
    "    for key in results:\n",
    "        result = calc_volume(results[key], ob_side, price)\n",
    "        snap_vol.append(result)\n",
    "        \n",
    "    total_change = round(snap_vol[-1] - snap_vol[0])\n",
    "    incremental_changes = [round(snap_vol[i+1] - snap_vol[i]) for i, j in enumerate(snap_vol) if i < len(snap_vol)-1]\n",
    "    print(f\"vol in each snapshot: {snap_vol}\")\n",
    "    print(f\"incremental: {incremental_changes}\")\n",
    "    print(f\"total (diff between last and first): {total_change}\")"
   ]
  },
  {
   "cell_type": "code",
   "execution_count": 20,
   "metadata": {},
   "outputs": [
    {
     "name": "stdout",
     "output_type": "stream",
     "text": [
      "getting snapshot 1 of 3\n",
      "-7237732313600249416\n",
      "getting snapshot 2 of 3\n",
      "-7821156310868186692\n",
      "getting snapshot 3 of 3\n",
      "-7821156310868186692\n",
      "done!\n"
     ]
    }
   ],
   "source": [
    "results = time_series(\"ethusd\", \"s\", 3)"
   ]
  },
  {
   "cell_type": "code",
   "execution_count": 21,
   "metadata": {},
   "outputs": [],
   "source": [
    "#results"
   ]
  },
  {
   "cell_type": "code",
   "execution_count": 23,
   "metadata": {},
   "outputs": [
    {
     "name": "stdout",
     "output_type": "stream",
     "text": [
      "vol in each snapshot: [981.6129999999997, 975.4639999999998, 975.4639999999998]\n",
      "incremental: [-6, 0]\n",
      "total (diff between last and first): -6\n"
     ]
    }
   ],
   "source": [
    "snapshot_compare(results, \"bids\", 2470)"
   ]
  },
  {
   "cell_type": "markdown",
   "metadata": {},
   "source": [
    "### Finally, can you think of an efficient way to get a \"diff\" of two frames? For example, can you think of a way to determine at which price the volume changed the most?"
   ]
  },
  {
   "cell_type": "markdown",
   "metadata": {},
   "source": [
    "Quick idea:\n",
    "- for each side of each order book, group the orders into buckets with a certain width, e.g. if the lowest ask is 2450, group all the asks from 2450 to 2451, then from 2451 to 2452, etc. Do this for both sides of each order book you collect.\n",
    "- you then have multiple aggregated order books with the same indexes.\n",
    "- compare the volumes at the same index across each orderbook\n",
    "\n",
    "\n",
    "Additional considerations:\n",
    "- need to force the lowest ask or max bid to be the same in each order book snapshot. \n",
    "- need to deal with large spreads\n",
    "- comparisons where one side has 0 volume should be marked as suspicious and investigated further to iterate a better solution.\n",
    "- need to present negative volumes changes correctly"
   ]
  }
 ],
 "metadata": {
  "kernelspec": {
   "display_name": "Python 3",
   "language": "python",
   "name": "python3"
  },
  "language_info": {
   "codemirror_mode": {
    "name": "ipython",
    "version": 3
   },
   "file_extension": ".py",
   "mimetype": "text/x-python",
   "name": "python",
   "nbconvert_exporter": "python",
   "pygments_lexer": "ipython3",
   "version": "3.8.5"
  }
 },
 "nbformat": 4,
 "nbformat_minor": 4
}
